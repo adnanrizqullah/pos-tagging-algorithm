{
 "cells": [
  {
   "cell_type": "code",
   "execution_count": 16,
   "metadata": {},
   "outputs": [],
   "source": [
    "transition = {\n",
    "    \"<s>\": {\n",
    "        \"nnp\" :0.2767, \n",
    "        \"md\":0.0006, \n",
    "        \"vd\":0.0031\n",
    "    }\n",
    "}\n",
    "emission = {'nnp':0.000032}"
   ]
  },
  {
   "cell_type": "code",
   "execution_count": 20,
   "metadata": {},
   "outputs": [
    {
     "name": "stdout",
     "output_type": "stream",
     "text": [
      "8.8544e-06\n"
     ]
    }
   ],
   "source": [
    "for prob in emission.keys():\n",
    "    for tags in transition.values():\n",
    "        for tag in tags.keys():\n",
    "            if tag == prob:\n",
    "                print(tags[tag] * emission[prob])"
   ]
  },
  {
   "cell_type": "code",
   "execution_count": null,
   "metadata": {},
   "outputs": [],
   "source": []
  }
 ],
 "metadata": {
  "kernelspec": {
   "display_name": "Python 3",
   "language": "python",
   "name": "python3"
  },
  "language_info": {
   "codemirror_mode": {
    "name": "ipython",
    "version": 3
   },
   "file_extension": ".py",
   "mimetype": "text/x-python",
   "name": "python",
   "nbconvert_exporter": "python",
   "pygments_lexer": "ipython3",
   "version": "3.6.5"
  }
 },
 "nbformat": 4,
 "nbformat_minor": 2
}
